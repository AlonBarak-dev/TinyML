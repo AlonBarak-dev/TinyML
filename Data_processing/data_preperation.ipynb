{
 "cells": [
  {
   "cell_type": "code",
   "execution_count": 2,
   "metadata": {},
   "outputs": [],
   "source": [
    "from scipy.io import wavfile\n",
    "import os\n",
    "import math\n",
    "import pandas as pd\n",
    "from tqdm import tqdm"
   ]
  },
  {
   "cell_type": "code",
   "execution_count": 6,
   "metadata": {},
   "outputs": [],
   "source": [
    "alon_records_path = \"../Data_collection/Alon_data/records\"\n",
    "alon_logs_path = \"../Data_collection/Alon_data/Logs\"\n",
    "\n",
    "sahar_records_path = \"../Data_collection/Sahar_data/records\"\n",
    "sahar_logs_path = \"../Data_collection/Sahar_data/Logs\"\n",
    "\n",
    "save_record_path = \"data/records/record_\"\n",
    "save_log_path = \"data/labels/label_ \""
   ]
  },
  {
   "cell_type": "code",
   "execution_count": 7,
   "metadata": {},
   "outputs": [],
   "source": [
    "def divide_samples(records_path:str, logs_path, total_sec, samples_counter, label_counter):\n",
    "    # loop over the raw records and logs\n",
    "    for record_path, log_path in tqdm(zip(os.listdir(records_path), os.listdir(logs_path))):\n",
    "        # create record samples\n",
    "        rate, data = wavfile.read(records_path+'/'+record_path)\n",
    "        sec = math.ceil(len(data)/rate)\n",
    "        total_sec += sec\n",
    "        for s in range(sec):\n",
    "            sample = data[rate*s:rate*(s+1)]\n",
    "            wavfile.write(save_record_path+str(samples_counter)+\".wav\", rate, sample)\n",
    "            samples_counter += 1\n",
    "\n",
    "        # create labels\n",
    "        log = pd.read_csv(logs_path+\"/\"+log_path)\n",
    "        label_per_second = math.ceil(len(log[\"label\"]) / sec)\n",
    "\n",
    "        for idx in range(0, len(log[\"label\"]), label_per_second):\n",
    "            idx = min(idx, len(log[\"label\"]))\n",
    "            label = log[\"label\"][idx]\n",
    "            f = open(save_log_path+str(label_counter)+\".txt\", 'w+')\n",
    "            f.write(str(label))\n",
    "            f.close()\n",
    "            label_counter += 1\n",
    "        \n",
    "    return total_sec, samples_counter, label_counter"
   ]
  },
  {
   "cell_type": "code",
   "execution_count": 8,
   "metadata": {},
   "outputs": [
    {
     "name": "stderr",
     "output_type": "stream",
     "text": [
      "36it [00:05,  6.14it/s]\n",
      "25it [00:06,  4.10it/s]\n"
     ]
    }
   ],
   "source": [
    "# Divide Alon records\n",
    "total_sec, samples_counter, label_counter = divide_samples(alon_records_path, alon_logs_path, 0, 0, 0)\n",
    "# Divide Sahar records\n",
    "total_sec, samples_counter, label_counter = divide_samples(sahar_records_path, sahar_logs_path, total_sec, samples_counter, label_counter)"
   ]
  },
  {
   "cell_type": "code",
   "execution_count": 11,
   "metadata": {},
   "outputs": [
    {
     "name": "stdout",
     "output_type": "stream",
     "text": [
      "Total number of seconds 6600 - are 110 minutes, total number of samples 6600\n"
     ]
    }
   ],
   "source": [
    "print(f\"Total number of seconds {total_sec} - are {total_sec//60} minutes, total number of samples {samples_counter}\")"
   ]
  }
 ],
 "metadata": {
  "kernelspec": {
   "display_name": "Python 3",
   "language": "python",
   "name": "python3"
  },
  "language_info": {
   "codemirror_mode": {
    "name": "ipython",
    "version": 3
   },
   "file_extension": ".py",
   "mimetype": "text/x-python",
   "name": "python",
   "nbconvert_exporter": "python",
   "pygments_lexer": "ipython3",
   "version": "3.9.11"
  },
  "orig_nbformat": 4
 },
 "nbformat": 4,
 "nbformat_minor": 2
}
