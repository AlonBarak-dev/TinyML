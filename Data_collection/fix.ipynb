{
 "cells": [
  {
   "cell_type": "code",
   "execution_count": 2,
   "metadata": {},
   "outputs": [],
   "source": [
    "import pandas as pd"
   ]
  },
  {
   "cell_type": "code",
   "execution_count": 6,
   "metadata": {},
   "outputs": [
    {
     "name": "stdout",
     "output_type": "stream",
     "text": [
      "           time  label\n",
      "0      0.000000      0\n",
      "1      0.531193      0\n",
      "2      1.065622      0\n",
      "3      1.589512      0\n",
      "4      2.096479      0\n",
      "..          ...    ...\n",
      "664  358.313385      0\n",
      "665  358.824622      0\n",
      "666  359.374645      0\n",
      "667  359.920208      0\n",
      "668  360.462364      0\n",
      "\n",
      "[669 rows x 2 columns]\n"
     ]
    }
   ],
   "source": [
    "fd = pd.read_csv(\"Sahar_data/Logs/label_1.csv\")\n",
    "fd['label'] = 0\n",
    "fd = fd[['time', 'label']].copy()\n",
    "print(fd)"
   ]
  },
  {
   "cell_type": "code",
   "execution_count": 5,
   "metadata": {},
   "outputs": [],
   "source": [
    "fd.to_csv(\"Sahar_data/Logs/label_1.csv\")"
   ]
  },
  {
   "cell_type": "code",
   "execution_count": null,
   "metadata": {},
   "outputs": [],
   "source": []
  }
 ],
 "metadata": {
  "kernelspec": {
   "display_name": "Python 3",
   "language": "python",
   "name": "python3"
  },
  "language_info": {
   "codemirror_mode": {
    "name": "ipython",
    "version": 3
   },
   "file_extension": ".py",
   "mimetype": "text/x-python",
   "name": "python",
   "nbconvert_exporter": "python",
   "pygments_lexer": "ipython3",
   "version": "3.10.7"
  },
  "orig_nbformat": 4
 },
 "nbformat": 4,
 "nbformat_minor": 2
}
