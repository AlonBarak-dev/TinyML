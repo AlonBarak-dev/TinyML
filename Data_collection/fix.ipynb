{
 "cells": [
  {
   "cell_type": "code",
   "execution_count": 1,
   "metadata": {},
   "outputs": [],
   "source": [
    "import pandas as pd"
   ]
  },
  {
   "cell_type": "code",
   "execution_count": 4,
   "metadata": {},
   "outputs": [
    {
     "name": "stdout",
     "output_type": "stream",
     "text": [
      "     Unnamed: 0          time  label    baro  pitch  roll  Yaw  height  Vx  \\\n",
      "0             0  1.684347e+09      0  643.12      1     0   31      60   0   \n",
      "1             1  1.684347e+09      0  642.91      1     0   31      60   0   \n",
      "2             2  1.684347e+09      0  643.02      2     0   31      60   0   \n",
      "3             3  1.684347e+09      0  643.03      1     0   31      60   0   \n",
      "4             4  1.684347e+09      0  643.13      1     0   31      70   0   \n",
      "..          ...           ...    ...     ...    ...   ...  ...     ...  ..   \n",
      "343         343  1.684348e+09      0  643.40      1     0 -100      90   0   \n",
      "344         344  1.684348e+09      0  643.34      2     2 -100      90   0   \n",
      "345         345  1.684348e+09      0  643.33      1     2 -101      90   0   \n",
      "346         346  1.684348e+09      0  643.46      3     1 -100     100   0   \n",
      "347         347  1.684348e+09      0  643.37      3     0 -100      90   0   \n",
      "\n",
      "     Vy  Vz  battery  \n",
      "0     0   0       91  \n",
      "1     0   0       91  \n",
      "2     0   0       90  \n",
      "3     0   0       90  \n",
      "4     0   1       89  \n",
      "..   ..  ..      ...  \n",
      "343   0   0       36  \n",
      "344   0  -1       36  \n",
      "345   0   0       36  \n",
      "346   0   0       35  \n",
      "347   0   0       35  \n",
      "\n",
      "[348 rows x 12 columns]\n"
     ]
    }
   ],
   "source": [
    "fd = pd.read_csv(\"Logs/label_0.csv\")\n",
    "fd['label'] = 0\n",
    "print(fd)"
   ]
  },
  {
   "cell_type": "code",
   "execution_count": 5,
   "metadata": {},
   "outputs": [],
   "source": [
    "fd.to_csv(\"Logs/label_0.csv\")"
   ]
  },
  {
   "cell_type": "code",
   "execution_count": null,
   "metadata": {},
   "outputs": [],
   "source": []
  }
 ],
 "metadata": {
  "kernelspec": {
   "display_name": "Python 3",
   "language": "python",
   "name": "python3"
  },
  "language_info": {
   "codemirror_mode": {
    "name": "ipython",
    "version": 3
   },
   "file_extension": ".py",
   "mimetype": "text/x-python",
   "name": "python",
   "nbconvert_exporter": "python",
   "pygments_lexer": "ipython3",
   "version": "3.10.7"
  },
  "orig_nbformat": 4
 },
 "nbformat": 4,
 "nbformat_minor": 2
}
